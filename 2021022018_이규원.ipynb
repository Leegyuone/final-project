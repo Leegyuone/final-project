{
 "cells": [
  {
   "cell_type": "code",
   "execution_count": 98,
   "metadata": {},
   "outputs": [
    {
     "name": "stdout",
     "output_type": "stream",
     "text": [
      "       제품별  2022.01  2022.02  2022.03  2022.04  2022.05  2022.06  2022.07  \\\n",
      "0    보통휘발유  1635.22  1714.61  1938.46  1976.53  1967.07  2084.00  2029.99   \n",
      "1     실내등유  1098.10  1171.44  1347.82  1427.82  1480.11  1601.77  1686.55   \n",
      "2  자동차용 경유  1453.53  1536.64  1826.93  1906.42  1964.28  2089.03  2084.91   \n",
      "\n",
      "   2022.08  2022.09  2022.10  2022.11  \n",
      "0  1792.19  1730.00  1666.65  1650.32  \n",
      "1  1639.49  1620.15  1598.07  1601.69  \n",
      "2  1889.31  1850.20  1838.34  1879.15  \n",
      "\n",
      "\n",
      "               0        1        2\n",
      "제품별        보통휘발유     실내등유  자동차용 경유\n",
      "2022.01  1635.22   1098.1  1453.53\n",
      "2022.02  1714.61  1171.44  1536.64\n",
      "2022.03  1938.46  1347.82  1826.93\n",
      "2022.04  1976.53  1427.82  1906.42\n",
      "2022.05  1967.07  1480.11  1964.28\n",
      "2022.06   2084.0  1601.77  2089.03\n",
      "2022.07  2029.99  1686.55  2084.91\n",
      "2022.08  1792.19  1639.49  1889.31\n",
      "2022.09   1730.0  1620.15   1850.2\n",
      "2022.10  1666.65  1598.07  1838.34\n",
      "2022.11  1650.32  1601.69  1879.15\n",
      "\n",
      "\n",
      "<class 'str'> <class 'pandas.core.frame.DataFrame'>\n",
      "key: 보통휘발유\n",
      "number: 11\n",
      "group head: \n",
      " 제품별        보통휘발유\n",
      "2022.01  1635.22\n",
      "2022.02  1714.61\n",
      "2022.03  1938.46\n",
      "2022.04  1976.53\n",
      "2022.05  1967.07\n",
      "2022.06  2084.00\n",
      "2022.07  2029.99\n",
      "2022.08  1792.19\n",
      "2022.09  1730.00\n",
      "2022.10  1666.65\n",
      "2022.11  1650.32\n",
      "\n",
      "\n",
      "Index(['2022.01', '2022.02', '2022.03', '2022.04', '2022.05', '2022.06',\n",
      "       '2022.07', '2022.08', '2022.09', '2022.10', '2022.11'],\n",
      "      dtype='object') Index(['보통휘발유'], dtype='object', name='제품별')\n",
      "\n",
      "\n",
      "<class 'str'> <class 'pandas.core.frame.DataFrame'>\n",
      "key: 실내등유\n",
      "number: 11\n",
      "group head: \n",
      " 제품별         실내등유\n",
      "2022.01  1098.10\n",
      "2022.02  1171.44\n",
      "2022.03  1347.82\n",
      "2022.04  1427.82\n",
      "2022.05  1480.11\n",
      "2022.06  1601.77\n",
      "2022.07  1686.55\n",
      "2022.08  1639.49\n",
      "2022.09  1620.15\n",
      "2022.10  1598.07\n",
      "2022.11  1601.69\n",
      "\n",
      "\n",
      "Index(['2022.01', '2022.02', '2022.03', '2022.04', '2022.05', '2022.06',\n",
      "       '2022.07', '2022.08', '2022.09', '2022.10', '2022.11'],\n",
      "      dtype='object') Index(['실내등유'], dtype='object', name='제품별')\n",
      "\n",
      "\n",
      "<class 'str'> <class 'pandas.core.frame.DataFrame'>\n",
      "key: 자동차용 경유\n",
      "number: 11\n",
      "group head: \n",
      " 제품별      자동차용 경유\n",
      "2022.01  1453.53\n",
      "2022.02  1536.64\n",
      "2022.03  1826.93\n",
      "2022.04  1906.42\n",
      "2022.05  1964.28\n",
      "2022.06  2089.03\n",
      "2022.07  2084.91\n",
      "2022.08  1889.31\n",
      "2022.09  1850.20\n",
      "2022.10  1838.34\n",
      "2022.11  1879.15\n",
      "\n",
      "\n",
      "Index(['2022.01', '2022.02', '2022.03', '2022.04', '2022.05', '2022.06',\n",
      "       '2022.07', '2022.08', '2022.09', '2022.10', '2022.11'],\n",
      "      dtype='object') Index(['자동차용 경유'], dtype='object', name='제품별')\n",
      "\n",
      "\n",
      "           보통휘발유     실내등유  자동차용 경유\n",
      "2022.01  1635.22   1098.1  1453.53\n",
      "2022.02  1714.61  1171.44  1536.64\n",
      "2022.03  1938.46  1347.82  1826.93\n",
      "2022.04  1976.53  1427.82  1906.42\n",
      "2022.05  1967.07  1480.11  1964.28\n",
      "2022.06   2084.0  1601.77  2089.03\n",
      "2022.07  2029.99  1686.55  2084.91\n",
      "2022.08  1792.19  1639.49  1889.31\n",
      "2022.09   1730.0  1620.15   1850.2\n",
      "2022.10  1666.65  1598.07  1838.34\n",
      "2022.11  1650.32  1601.69  1879.15\n"
     ]
    },
    {
     "name": "stderr",
     "output_type": "stream",
     "text": [
      "c:\\Users\\82106\\anaconda3\\lib\\site-packages\\openpyxl\\styles\\stylesheet.py:226: UserWarning: Workbook contains no default style, apply openpyxl's default\n",
      "  warn(\"Workbook contains no default style, apply openpyxl's default\")\n"
     ]
    }
   ],
   "source": [
    "# 데이터 정리\n",
    "\n",
    "from bs4 import BeautifulSoup\n",
    "import requests\n",
    "import re\n",
    "import pandas as pd\n",
    "import matplotlib.pyplot as plt\n",
    "import seaborn as sns\n",
    "import numpy as np\n",
    "\n",
    "df_origin = pd.read_excel('./주유소_평균_판매가격_20221212164620.xlsx')\n",
    "print(df_origin)\n",
    "print('\\n')\n",
    "df_origin_T = df_origin.transpose()\n",
    "print(df_origin_T)\n",
    "print('\\n')\n",
    "\n",
    "\n",
    "grouped = df_origin.groupby(['제품별'])\n",
    "for key, group in grouped:\n",
    "    print(type(key), type(group))\n",
    "    group.set_index(['제품별'], inplace = True)\n",
    "    group1 = pd.DataFrame(group)\n",
    "    group_T = group1.T\n",
    "    print('key:', key)\n",
    "    print('number:', len(group_T))\n",
    "    print('group head: \\n',group_T)\n",
    "    print('\\n')\n",
    "    print(group_T.index, group_T.columns)\n",
    "    print('\\n')\n",
    "    \n",
    "df = df_origin_T.rename(columns = {'보통휘발유': 'regular gasoline', '실내등유': 'indoor kerosene', '자동차용 경유': 'disel for car '})\n",
    "df.drop(['제품별'], axis = 0 , inplace = True)\n",
    "df.rename(columns = {0: '보통휘발유', 1: '실내등유', 2: '자동차용 경유'}, inplace = True)\n",
    "print(df)\n",
    "\n",
    "\n",
    "\n",
    "\n"
   ]
  },
  {
   "cell_type": "code",
   "execution_count": 97,
   "metadata": {},
   "outputs": [
    {
     "name": "stdout",
     "output_type": "stream",
     "text": [
      "        2022.01                                                            \\\n",
      "          count     mean std      min      25%      50%      75%      max   \n",
      "제품별                                                                         \n",
      "보통휘발유       1.0  1635.22 NaN  1635.22  1635.22  1635.22  1635.22  1635.22   \n",
      "실내등유        1.0  1098.10 NaN  1098.10  1098.10  1098.10  1098.10  1098.10   \n",
      "자동차용 경유     1.0  1453.53 NaN  1453.53  1453.53  1453.53  1453.53  1453.53   \n",
      "\n",
      "        2022.02           ...  2022.10          2022.11                        \\\n",
      "          count     mean  ...      75%      max   count     mean std      min   \n",
      "제품별                       ...                                                   \n",
      "보통휘발유       1.0  1714.61  ...  1666.65  1666.65     1.0  1650.32 NaN  1650.32   \n",
      "실내등유        1.0  1171.44  ...  1598.07  1598.07     1.0  1601.69 NaN  1601.69   \n",
      "자동차용 경유     1.0  1536.64  ...  1838.34  1838.34     1.0  1879.15 NaN  1879.15   \n",
      "\n",
      "                                             \n",
      "             25%      50%      75%      max  \n",
      "제품별                                          \n",
      "보통휘발유    1650.32  1650.32  1650.32  1650.32  \n",
      "실내등유     1601.69  1601.69  1601.69  1601.69  \n",
      "자동차용 경유  1879.15  1879.15  1879.15  1879.15  \n",
      "\n",
      "[3 rows x 88 columns]\n",
      "\n",
      "\n",
      "제품별\n",
      "보통휘발유      1\n",
      "실내등유       1\n",
      "자동차용 경유    1\n",
      "dtype: int64\n"
     ]
    }
   ],
   "source": [
    "# gropued 정보\n",
    "print(grouped.describe())\n",
    "print('\\n')\n",
    "print(grouped.size())"
   ]
  },
  {
   "cell_type": "code",
   "execution_count": 94,
   "metadata": {},
   "outputs": [
    {
     "name": "stdout",
     "output_type": "stream",
     "text": [
      "          2022.01   2022.02   2022.03   2022.04   2022.05   2022.06   2022.07  \\\n",
      "제품별                                                                             \n",
      "보통휘발유    1.259119  1.320250  1.492614  1.521928  1.514644  1.604680  1.563092   \n",
      "실내등유     0.845537  0.902009  1.037821  1.099421  1.139685  1.233363  1.298643   \n",
      "자동차용 경유  1.119218  1.183213  1.406736  1.467943  1.512496  1.608553  1.605381   \n",
      "\n",
      "          2022.08   2022.09   2022.10   2022.11  \n",
      "제품별                                              \n",
      "보통휘발유    1.379986  1.332100  1.283321  1.270746  \n",
      "실내등유     1.262407  1.247515  1.230514  1.233301  \n",
      "자동차용 경유  1.454769  1.424654  1.415522  1.446945  \n"
     ]
    }
   ],
   "source": [
    "# 환율을 이용하여 dollar 로 바꿈 (2022. 12. 14 기준 환율)\n",
    "def won_to_dollar(x):\n",
    "    return x*0.00077\n",
    "\n",
    "print(grouped.agg(won_to_dollar))\n"
   ]
  },
  {
   "cell_type": "code",
   "execution_count": 153,
   "metadata": {},
   "outputs": [
    {
     "name": "stdout",
     "output_type": "stream",
     "text": [
      "     제품별  2022.01  2022.02  2022.03  2022.04  2022.05  2022.06  2022.07  \\\n",
      "0  보통휘발유  1635.22  1714.61  1938.46  1976.53  1967.07   2084.0  2029.99   \n",
      "\n",
      "   2022.08  2022.09  2022.10  2022.11  \n",
      "0  1792.19   1730.0  1666.65  1650.32  \n",
      "\n",
      "\n",
      "      month      Won\n",
      "1   2022.01  1635.22\n",
      "2   2022.02  1714.61\n",
      "3   2022.03  1938.46\n",
      "4   2022.04  1976.53\n",
      "5   2022.05  1967.07\n",
      "6   2022.06   2084.0\n",
      "7   2022.07  2029.99\n",
      "8   2022.08  1792.19\n",
      "9   2022.09   1730.0\n",
      "10  2022.10  1666.65\n",
      "11  2022.11  1650.32\n",
      "RangeIndex(start=1, stop=12, step=1) Index(['month', 'Won'], dtype='object')\n"
     ]
    },
    {
     "data": {
      "image/png": "[encoded data removed]",
      "text/plain": [
       "<Figure size 720x360 with 1 Axes>"
      ]
     },
     "metadata": {
      "needs_background": "light"
     },
     "output_type": "display_data"
    },
    {
     "name": "stdout",
     "output_type": "stream",
     "text": [
      "      month\n",
      "4   2022.04\n",
      "2   2022.02\n",
      "1   2022.01\n",
      "5   2022.05\n",
      "10  2022.10 \n",
      "       month\n",
      "3   2022.03\n",
      "7   2022.07\n",
      "9   2022.09\n",
      "6   2022.06\n",
      "8   2022.08\n",
      "11  2022.11 \n",
      " 4     1976.53\n",
      "2     1714.61\n",
      "1     1635.22\n",
      "5     1967.07\n",
      "10    1666.65\n",
      "Name: Won, dtype: object \n",
      " 3     1938.46\n",
      "7     2029.99\n",
      "9      1730.0\n",
      "6      2084.0\n",
      "8     1792.19\n",
      "11    1650.32\n",
      "Name: Won, dtype: object\n",
      "[[1.00000000e+00 2.02204000e+03 4.08864576e+06]\n",
      " [1.00000000e+00 2.02202000e+03 4.08856488e+06]\n",
      " [1.00000000e+00 2.02201000e+03 4.08852444e+06]\n",
      " [1.00000000e+00 2.02205000e+03 4.08868620e+06]\n",
      " [1.00000000e+00 2.02210000e+03 4.08888841e+06]]\n",
      "      month      Won\n",
      "3   2022.03  1938.46\n",
      "7   2022.07  2029.99\n",
      "9   2022.09   1730.0\n",
      "6   2022.06   2084.0\n",
      "8   2022.08  1792.19\n",
      "11  2022.11  1650.32\n",
      "      month      Won\n",
      "4   2022.04  1976.53\n",
      "2   2022.02  1714.61\n",
      "1   2022.01  1635.22\n",
      "5   2022.05  1967.07\n",
      "10  2022.10  1666.65\n",
      "      month          Won\n",
      "3   2022.03  1866.344482\n",
      "7   2022.07  1959.404419\n",
      "9   2022.09  1799.032471\n",
      "6   2022.06  1987.864990\n",
      "8   2022.08  1896.460205\n",
      "11  2022.11  1500.725952\n"
     ]
    },
    {
     "data": {
      "image/png": "[encoded data removed]",
      "text/plain": [
       "<Figure size 720x360 with 1 Axes>"
      ]
     },
     "metadata": {
      "needs_background": "light"
     },
     "output_type": "display_data"
    },
    {
     "data": {
      "image/png": "[encoded data removed]",
      "text/plain": [
       "<Figure size 720x360 with 1 Axes>"
      ]
     },
     "metadata": {
      "needs_background": "light"
     },
     "output_type": "display_data"
    }
   ],
   "source": [
    "# 보통휘발유 \n",
    "\n",
    "re_gas = grouped.get_group('보통휘발유')\n",
    "print(re_gas)\n",
    "print('\\n')\n",
    "\n",
    "re_gas_T = re_gas.T\n",
    "new_re_gas = re_gas_T.reset_index()\n",
    "new_re_gas.rename(columns = {'index': 'month', 0 : 'Won'}, inplace = True)\n",
    "new_re_gas.drop(0, inplace = True)\n",
    "\n",
    "print(new_re_gas)\n",
    "print(new_re_gas.index, new_re_gas.columns)\n",
    "\n",
    "new_re_gas.plot(kind = 'scatter', x = 'month', y = 'Won', c = 'coral' , s= 10, figsize = (10, 5), title = ' price of regular gasoline ')\n",
    "plt.show()\n",
    "plt.close()\n"
   ]
  },
  {
   "cell_type": "code",
   "execution_count": 168,
   "metadata": {},
   "outputs": [
    {
     "name": "stdout",
     "output_type": "stream",
     "text": [
      "      month\n",
      "6   2022.06\n",
      "8   2022.08\n",
      "11  2022.11\n",
      "4   2022.04\n",
      "2   2022.02\n",
      "1   2022.01\n",
      "5   2022.05\n",
      "10  2022.10 \n",
      "      month\n",
      "3  2022.03\n",
      "7  2022.07\n",
      "9  2022.09 \n",
      " 6      2084.0\n",
      "8     1792.19\n",
      "11    1650.32\n",
      "4     1976.53\n",
      "2     1714.61\n",
      "1     1635.22\n",
      "5     1967.07\n",
      "10    1666.65\n",
      "Name: Won, dtype: object \n",
      " 3    1938.46\n",
      "7    2029.99\n",
      "9     1730.0\n",
      "Name: Won, dtype: object\n",
      "[[1.00000000e+00 2.02206000e+03 4.08872664e+06]\n",
      " [1.00000000e+00 2.02208000e+03 4.08880753e+06]\n",
      " [1.00000000e+00 2.02211000e+03 4.08892885e+06]\n",
      " [1.00000000e+00 2.02204000e+03 4.08864576e+06]\n",
      " [1.00000000e+00 2.02202000e+03 4.08856488e+06]\n",
      " [1.00000000e+00 2.02201000e+03 4.08852444e+06]\n",
      " [1.00000000e+00 2.02205000e+03 4.08868620e+06]\n",
      " [1.00000000e+00 2.02210000e+03 4.08888841e+06]]\n",
      "     month      Won\n",
      "3  2022.03  1938.46\n",
      "7  2022.07  2029.99\n",
      "9  2022.09   1730.0\n",
      "      month      Won\n",
      "6   2022.06   2084.0\n",
      "8   2022.08  1792.19\n",
      "11  2022.11  1650.32\n",
      "4   2022.04  1976.53\n",
      "2   2022.02  1714.61\n",
      "1   2022.01  1635.22\n",
      "5   2022.05  1967.07\n",
      "10  2022.10  1666.65\n",
      "     month          Won\n",
      "3  2022.03  1861.949707\n",
      "7  2022.07  1961.139648\n",
      "9  2022.09  1829.931274\n"
     ]
    },
    {
     "data": {
      "image/png": "[encoded data removed]",
      "text/plain": [
       "<Figure size 720x360 with 1 Axes>"
      ]
     },
     "metadata": {
      "needs_background": "light"
     },
     "output_type": "display_data"
    },
    {
     "data": {
      "image/png": "[encoded data removed]",
      "text/plain": [
       "<Figure size 720x360 with 1 Axes>"
      ]
     },
     "metadata": {
      "needs_background": "light"
     },
     "output_type": "display_data"
    }
   ],
   "source": [
    "# 보통 휘발유 다항회귀\n",
    "\n",
    "X = new_re_gas[['month']]\n",
    "y = new_re_gas['Won']\n",
    "\n",
    "from sklearn.model_selection import train_test_split\n",
    "X_train, X_test, y_train, y_test = train_test_split(X, y, test_size = 0.2, random_state = 10)\n",
    "\n",
    "print(X_train, '\\n',X_test,'\\n',y_train,'\\n',y_test)\n",
    "\n",
    "from sklearn.linear_model import LinearRegression\n",
    "from sklearn.preprocessing import PolynomialFeatures\n",
    "\n",
    "poly = PolynomialFeatures(degree = 2)\n",
    "X_train_poly = poly.fit_transform(X_train)\n",
    "print(X_train_poly)\n",
    "\n",
    "pr = LinearRegression()\n",
    "pr.fit(X_train_poly, y_train)\n",
    "\n",
    "X_test_Poly = poly.fit_transform(X_test)\n",
    "\n",
    "y_hat_test = pr.predict(X_test_Poly)\n",
    "df_y_hat_test = pd.DataFrame({'Won': y_hat_test})\n",
    "df_y_hat_test.index = y_test.index\n",
    "\n",
    "df_test = pd.concat([X_test, df_y_hat_test], axis = 1)\n",
    "df_train = pd.concat([X_train, y_train], axis = 1)\n",
    "df_real = pd.concat([X_test, y_test], axis = 1)\n",
    "print(df_real)\n",
    "print(df_train)\n",
    "print(df_test)\n",
    "\n",
    "df_real.plot(kind = 'scatter', x = 'month', y = 'Won', c= 'coral', s = 15, figsize = (10, 5), title = 'result')\n",
    "df_test.plot(kind = 'scatter', x = 'month', y = 'Won', c= 'coral', s = 15, figsize = (10, 5), title = 'predict')\n",
    "\n",
    "plt.show()\n",
    "plt.close()"
   ]
  },
  {
   "cell_type": "code",
   "execution_count": 172,
   "metadata": {},
   "outputs": [
    {
     "name": "stdout",
     "output_type": "stream",
     "text": [
      "[1938.46, 2029.99, 1730.0] [1861.94970703125, 1961.1396484375, 1829.9312744140625]\n",
      "76.51029296875004\n",
      "5853.824930163962\n",
      "68.85035156250001\n",
      "10594.195840443808\n",
      "-99.9312744140625\n",
      "20580.45544646247\n",
      "[1938.46, 2029.99, 1730.0] [1861.94970703125, 1961.1396484375, 1829.9312744140625]\n",
      "76.51029296875004\n",
      "5853.824930163962\n",
      "68.85035156250001\n",
      "10594.195840443808\n",
      "-99.9312744140625\n",
      "20580.45544646247\n",
      "[1938.46, 2029.99, 1730.0] [1861.94970703125, 1961.1396484375, 1829.9312744140625]\n",
      "76.51029296875004\n",
      "5853.824930163962\n",
      "68.85035156250001\n",
      "10594.195840443808\n",
      "-99.9312744140625\n",
      "20580.45544646247\n",
      "[1938.46, 2029.99, 1730.0] [1861.94970703125, 1961.1396484375, 1829.9312744140625]\n",
      "76.51029296875004\n",
      "5853.824930163962\n",
      "68.85035156250001\n",
      "10594.195840443808\n",
      "-99.9312744140625\n",
      "20580.45544646247\n",
      "[1938.46, 2029.99, 1730.0] [1861.94970703125, 1961.1396484375, 1829.9312744140625]\n",
      "76.51029296875004\n",
      "5853.824930163962\n",
      "68.85035156250001\n",
      "10594.195840443808\n",
      "-99.9312744140625\n",
      "20580.45544646247\n",
      "[1938.46, 2029.99, 1730.0] [1861.94970703125, 1961.1396484375, 1829.9312744140625]\n",
      "76.51029296875004\n",
      "5853.824930163962\n",
      "68.85035156250001\n",
      "10594.195840443808\n",
      "-99.9312744140625\n",
      "20580.45544646247\n",
      "[1938.46, 2029.99, 1730.0] [1861.94970703125, 1961.1396484375, 1829.9312744140625]\n",
      "76.51029296875004\n",
      "5853.824930163962\n",
      "68.85035156250001\n",
      "10594.195840443808\n",
      "-99.9312744140625\n",
      "20580.45544646247\n",
      "[1938.46, 2029.99, 1730.0] [1861.94970703125, 1961.1396484375, 1829.9312744140625]\n",
      "76.51029296875004\n",
      "5853.824930163962\n",
      "68.85035156250001\n",
      "10594.195840443808\n",
      "-99.9312744140625\n",
      "20580.45544646247\n",
      "[1938.46, 2029.99, 1730.0] [1861.94970703125, 1961.1396484375, 1829.9312744140625]\n",
      "76.51029296875004\n",
      "5853.824930163962\n",
      "68.85035156250001\n",
      "10594.195840443808\n",
      "-99.9312744140625\n",
      "20580.45544646247\n",
      "[1938.46, 2029.99, 1730.0] [1861.94970703125, 1961.1396484375, 1829.9312744140625]\n",
      "76.51029296875004\n",
      "5853.824930163962\n",
      "68.85035156250001\n",
      "10594.195840443808\n",
      "-99.9312744140625\n",
      "20580.45544646247\n",
      "6860.151815487492\n"
     ]
    }
   ],
   "source": [
    "# 모델 평가\n",
    "\n",
    "def MSE(x, y):\n",
    "    sum = 0\n",
    "    x_list = []\n",
    "    y_list = []\n",
    "    for i in x.Won:\n",
    "        x_list.append(i)\n",
    "        \n",
    "    for i in y.Won:\n",
    "        y_list.append(i)\n",
    "        \n",
    "    print(x_list, y_list)\n",
    "    for i in range(3):\n",
    "        sum += (x_list[i] - y_list[i])**2\n",
    "        print(x_list[i]-y_list[i])\n",
    "        print(sum)\n",
    "        \n",
    "    return sum/3\n",
    "\n",
    "sum = 0 \n",
    "for i in range(10):\n",
    "    sum += MSE(df_real, df_test)\n",
    "\n",
    "print(sum/10)"
   ]
  },
  {
   "cell_type": "code",
   "execution_count": 99,
   "metadata": {},
   "outputs": [
    {
     "name": "stdout",
     "output_type": "stream",
     "text": [
      "    제품별  2022.01  2022.02  2022.03  2022.04  2022.05  2022.06  2022.07  \\\n",
      "1  실내등유   1098.1  1171.44  1347.82  1427.82  1480.11  1601.77  1686.55   \n",
      "\n",
      "   2022.08  2022.09  2022.10  2022.11  \n",
      "1  1639.49  1620.15  1598.07  1601.69  \n",
      "\n",
      "\n",
      "      month      Won\n",
      "1   2022.01   1098.1\n",
      "2   2022.02  1171.44\n",
      "3   2022.03  1347.82\n",
      "4   2022.04  1427.82\n",
      "5   2022.05  1480.11\n",
      "6   2022.06  1601.77\n",
      "7   2022.07  1686.55\n",
      "8   2022.08  1639.49\n",
      "9   2022.09  1620.15\n",
      "10  2022.10  1598.07\n",
      "11  2022.11  1601.69\n"
     ]
    },
    {
     "data": {
      "image/png": "[encoded data removed]",
      "text/plain": [
       "<Figure size 720x360 with 1 Axes>"
      ]
     },
     "metadata": {
      "needs_background": "light"
     },
     "output_type": "display_data"
    }
   ],
   "source": [
    "# 실내등유\n",
    "\n",
    "in_kero = grouped.get_group('실내등유')\n",
    "print(in_kero)\n",
    "print('\\n')\n",
    "\n",
    "in_kero_T = in_kero.T\n",
    "new_in_kero = in_kero_T.reset_index()\n",
    "new_in_kero.drop(0, inplace = True)\n",
    "new_in_kero.rename(columns = {'index': 'month', 1 : 'Won'}, inplace = True)\n",
    "\n",
    "print(new_in_kero)\n",
    "\n",
    "new_in_kero.plot(kind = 'scatter', x = 'month', y = 'Won', c = 'coral' , s= 10, figsize = (10, 5), title = ' price of indoor kerosene ')\n",
    "\n",
    "plt.show()\n",
    "plt.close()\n",
    "\n"
   ]
  },
  {
   "cell_type": "code",
   "execution_count": 101,
   "metadata": {},
   "outputs": [
    {
     "name": "stdout",
     "output_type": "stream",
     "text": [
      "      month      Won\n",
      "1   2022.01  1453.53\n",
      "2   2022.02  1536.64\n",
      "3   2022.03  1826.93\n",
      "4   2022.04  1906.42\n",
      "5   2022.05  1964.28\n",
      "6   2022.06  2089.03\n",
      "7   2022.07  2084.91\n",
      "8   2022.08  1889.31\n",
      "9   2022.09   1850.2\n",
      "10  2022.10  1838.34\n",
      "11  2022.11  1879.15\n"
     ]
    },
    {
     "data": {
      "image/png": "[encoded data removed]",
      "text/plain": [
       "<Figure size 720x360 with 1 Axes>"
      ]
     },
     "metadata": {
      "needs_background": "light"
     },
     "output_type": "display_data"
    }
   ],
   "source": [
    "# 자동차용 경유\n",
    "\n",
    "disel = grouped.get_group('자동차용 경유')\n",
    "disel_T = disel.T\n",
    "new_disel = disel_T.reset_index()\n",
    "new_disel.drop(0, inplace = True)\n",
    "new_disel.rename(columns = {'index': 'month', 2 : 'Won'}, inplace = True)\n",
    "\n",
    "print(new_disel)\n",
    "\n",
    "new_disel.plot(kind = 'scatter', x = 'month', y = 'Won', c = 'coral' , s= 10, figsize = (10, 5), title = ' price of disel for car ')\n",
    "plt.show()\n",
    "plt.close()"
   ]
  },
  {
   "cell_type": "code",
   "execution_count": 84,
   "metadata": {},
   "outputs": [
    {
     "name": "stdout",
     "output_type": "stream",
     "text": [
      "      month      Won\n",
      "1   2022.01  1635.22\n",
      "2   2022.02  1714.61\n",
      "3   2022.03  1938.46\n",
      "4   2022.04  1976.53\n",
      "5   2022.05  1967.07\n",
      "6   2022.06   2084.0\n",
      "7   2022.07  2029.99\n",
      "8   2022.08  1792.19\n",
      "9   2022.09   1730.0\n",
      "10  2022.10  1666.65\n",
      "11  2022.11  1650.32\n",
      "\n",
      "\n",
      "[None, None, 1938.46, 1976.53, 1967.07, 2084.0, 2029.99, None, None, None, None] [1635.22, 1714.61, None, None, None, None, None, 1792.19, 1730.0, 1666.65, 1650.32]\n",
      "    over 1900  under 1900\n",
      "0         NaN     1635.22\n",
      "1         NaN     1714.61\n",
      "2     1938.46         NaN\n",
      "3     1976.53         NaN\n",
      "4     1967.07         NaN\n",
      "5     2084.00         NaN\n",
      "6     2029.99         NaN\n",
      "7         NaN     1792.19\n",
      "8         NaN     1730.00\n",
      "9         NaN     1666.65\n",
      "10        NaN     1650.32\n",
      "            count\n",
      "over 1900       5\n",
      "under 1900      6\n"
     ]
    },
    {
     "data": {
      "image/png": "[encoded data removed]",
      "text/plain": [
       "<Figure size 432x288 with 1 Axes>"
      ]
     },
     "metadata": {
      "needs_background": "light"
     },
     "output_type": "display_data"
    }
   ],
   "source": [
    "# 보통 휘발유 1900 이상 미만 구분\n",
    "\n",
    "print(new_re_gas)\n",
    "\n",
    "plt.show()\n",
    "plt.close()\n",
    "print('\\n')\n",
    "list_over_1900 = []\n",
    "list_under_1900 = []\n",
    "for x in new_re_gas['Won']:\n",
    "    if x >= 1900:\n",
    "        list_over_1900.append(x)\n",
    "    \n",
    "    if x < 1900:\n",
    "        list_under_1900.append(x)\n",
    "        \n",
    "    while (len(list_over_1900) != len(list_under_1900)):\n",
    "        \n",
    "        if len(list_over_1900) > len(list_under_1900):\n",
    "            list_under_1900.append(None)\n",
    "            \n",
    "        if (len(list_over_1900) < len(list_under_1900)):\n",
    "            list_over_1900.append(None)\n",
    "        \n",
    "        \n",
    "print(list_over_1900, list_under_1900)\n",
    "df_divide_re_gas = pd.DataFrame({'over 1900': list_over_1900, 'under 1900': list_under_1900})\n",
    "\n",
    "print(df_divide_re_gas)\n",
    "\n",
    "df_second_regas = pd.DataFrame([5, 6])\n",
    "df_second_regas.rename(index = {0:'over 1900', 1: 'under 1900'}, inplace = True)\n",
    "df_second_regas.rename(columns = {0:'count'}, inplace = True)\n",
    "print(df_second_regas)\n",
    "\n",
    "df_second_regas.plot(kind = 'bar')\n",
    "plt.show()\n",
    "plt.close()\n",
    "\n"
   ]
  }
 ],
 "metadata": {
  "kernelspec": {
   "display_name": "Python 3.9.12 ('base')",
   "language": "python",
   "name": "python3"
  },
  "language_info": {
   "codemirror_mode": {
    "name": "ipython",
    "version": 3
   },
   "file_extension": ".py",
   "mimetype": "text/x-python",
   "name": "python",
   "nbconvert_exporter": "python",
   "pygments_lexer": "ipython3",
   "version": "3.9.12"
  },
  "orig_nbformat": 4,
  "vscode": {
   "interpreter": {
    "hash": "dc8548202f27adda51366211f8511a1d7d9be1a2d1c00cdd604c41cba06c8d13"
   }
  }
 },
 "nbformat": 4,
 "nbformat_minor": 2
}
